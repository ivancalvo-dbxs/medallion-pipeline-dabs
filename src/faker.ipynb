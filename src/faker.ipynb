{
 "cells": [
  {
   "cell_type": "code",
   "execution_count": 0,
   "metadata": {
    "application/vnd.databricks.v1+cell": {
     "cellMetadata": {
      "byteLimit": 2048000,
      "rowLimit": 10000
     },
     "inputWidgets": {},
     "nuid": "57918a52-37fb-40fb-b7db-ff43baa4b552",
     "showTitle": false,
     "tableResultSettingsMap": {},
     "title": ""
    }
   },
   "outputs": [],
   "source": [
    "!pip install faker"
   ]
  },
  {
   "cell_type": "code",
   "execution_count": 0,
   "metadata": {
    "application/vnd.databricks.v1+cell": {
     "cellMetadata": {
      "byteLimit": 2048000,
      "rowLimit": 10000
     },
     "inputWidgets": {},
     "nuid": "0baa1b59-b5da-40ee-86d2-94cc8fd2870a",
     "showTitle": false,
     "tableResultSettingsMap": {},
     "title": ""
    }
   },
   "outputs": [],
   "source": [
    "import pandas as pd\n",
    "from faker import Faker\n",
    "import random\n",
    "import time"
   ]
  },
  {
   "cell_type": "markdown",
   "metadata": {
    "application/vnd.databricks.v1+cell": {
     "cellMetadata": {},
     "inputWidgets": {},
     "nuid": "066033ae-d34c-4db4-923a-ff6a0fb0e60b",
     "showTitle": false,
     "tableResultSettingsMap": {},
     "title": ""
    }
   },
   "source": [
    "## Notebook parameter\n",
    "- **landing_zone_volume**: Volume to store the generated fake data.\n",
    "- This value is specified from DABs."
   ]
  },
  {
   "cell_type": "code",
   "execution_count": 0,
   "metadata": {
    "application/vnd.databricks.v1+cell": {
     "cellMetadata": {
      "byteLimit": 2048000,
      "rowLimit": 10000
     },
     "inputWidgets": {},
     "nuid": "82b72b4e-b5b9-44ec-87dc-e8b123d4ad17",
     "showTitle": false,
     "tableResultSettingsMap": {},
     "title": ""
    }
   },
   "outputs": [],
   "source": [
    "dbutils.widgets.text(\"landing_zone_directory\", \"\")"
   ]
  },
  {
   "cell_type": "markdown",
   "metadata": {
    "application/vnd.databricks.v1+cell": {
     "cellMetadata": {},
     "inputWidgets": {},
     "nuid": "73ce7ed1-f008-4875-babe-4b5e1c9df23e",
     "showTitle": false,
     "tableResultSettingsMap": {},
     "title": ""
    }
   },
   "source": [
    "## Create a directory in the Volume to store the fake parquet dataset"
   ]
  },
  {
   "cell_type": "code",
   "execution_count": 0,
   "metadata": {
    "application/vnd.databricks.v1+cell": {
     "cellMetadata": {
      "byteLimit": 2048000,
      "rowLimit": 10000
     },
     "inputWidgets": {},
     "nuid": "e2d42e19-cf4e-4b1e-9e55-2d793a6b3a0b",
     "showTitle": false,
     "tableResultSettingsMap": {},
     "title": ""
    }
   },
   "outputs": [],
   "source": [
    "directory = dbutils.widgets.get(\"landing_zone_directory\")\n",
    "print(\"Here is where the parquet files are going to be stored:\\n\\n-\", directory)"
   ]
  },
  {
   "cell_type": "code",
   "execution_count": 0,
   "metadata": {
    "application/vnd.databricks.v1+cell": {
     "cellMetadata": {
      "byteLimit": 2048000,
      "rowLimit": 10000
     },
     "inputWidgets": {},
     "nuid": "e1c28408-dec9-4a67-b02c-4515b830ecda",
     "showTitle": false,
     "tableResultSettingsMap": {},
     "title": ""
    }
   },
   "outputs": [],
   "source": [
    "# This command is idempotent and will do nothing if the directory already exists.\n",
    "# Multiple executions are not going to delete the directory nor the files.\n",
    "dbutils.fs.mkdirs(directory)"
   ]
  },
  {
   "cell_type": "markdown",
   "metadata": {
    "application/vnd.databricks.v1+cell": {
     "cellMetadata": {},
     "inputWidgets": {},
     "nuid": "a17a246c-4ddb-4fa5-91dc-5e91bfed98a4",
     "showTitle": false,
     "tableResultSettingsMap": {},
     "title": ""
    }
   },
   "source": [
    "## Generate the data using Faker"
   ]
  },
  {
   "cell_type": "code",
   "execution_count": 0,
   "metadata": {
    "application/vnd.databricks.v1+cell": {
     "cellMetadata": {
      "byteLimit": 2048000,
      "rowLimit": 10000
     },
     "inputWidgets": {},
     "nuid": "a8fcb5c5-3c9d-49a7-b9aa-b4308d621d91",
     "showTitle": false,
     "tableResultSettingsMap": {},
     "title": ""
    }
   },
   "outputs": [],
   "source": [
    "# Initialize the Faker object\n",
    "fake = Faker()\n",
    "\n",
    "# Create a function to generate test data\n",
    "def create_test_data(num_entries=10):\n",
    "    data = []\n",
    "    for _ in range(num_entries):\n",
    "        data_entry = {\n",
    "            \"Full Name\": fake.name(),\n",
    "            \"Street Address\": fake.street_address(),\n",
    "            \"City\": fake.city(),\n",
    "            \"State\": fake.state(),\n",
    "            \"Zip Code\": fake.zipcode(),\n",
    "            \"Email Address\": fake.email(),\n",
    "            \"Contact Number\": fake.phone_number(),\n",
    "            \"Birthdate\": fake.date_of_birth(minimum_age=18, maximum_age=65).strftime(\"%Y-%m-%d\"),\n",
    "            \"Order ID\": fake.uuid4(),\n",
    "            \"Product Name\": fake.word(),\n",
    "            \"Purchase Date\": fake.date_this_year().strftime(\"%Y-%m-%d\"),\n",
    "            \"Quantity Purchased\": random.randint(1, 10),\n",
    "            \"Total Price\": round(random.uniform(10.0, 500.0), 2),\n",
    "            \"Company Name\": fake.company(),\n",
    "            \"Job Position\": fake.job(),\n",
    "            \"Profile\": fake.text(max_nb_chars=200),\n",
    "        }\n",
    "        data.append(data_entry)\n",
    "    return pd.DataFrame(data)"
   ]
  },
  {
   "cell_type": "markdown",
   "metadata": {
    "application/vnd.databricks.v1+cell": {
     "cellMetadata": {
      "byteLimit": 2048000,
      "rowLimit": 10000
     },
     "inputWidgets": {},
     "nuid": "2c921986-58d0-473d-9536-b205f8005274",
     "showTitle": false,
     "tableResultSettingsMap": {},
     "title": ""
    }
   },
   "source": [
    "## Generate N parquet files into the landing volume directory"
   ]
  },
  {
   "cell_type": "code",
   "execution_count": 0,
   "metadata": {
    "application/vnd.databricks.v1+cell": {
     "cellMetadata": {
      "byteLimit": 2048000,
      "rowLimit": 10000
     },
     "inputWidgets": {},
     "nuid": "002b066d-9850-44a0-b6ef-24a2455693b5",
     "showTitle": false,
     "tableResultSettingsMap": {},
     "title": ""
    }
   },
   "outputs": [],
   "source": [
    "num_of_files = 5\n",
    "num_entries = 10000\n",
    "\n",
    "for _ in range(num_of_files):\n",
    "  timestr = time.strftime(\"%Y%m%d_%H%M%S\")\n",
    "  data_df = create_test_data(num_entries)\n",
    "  file_name = f\"{directory}/{timestr}.parquet\"\n",
    "  data_df.to_parquet(file_name, index=False)\n",
    "  print(f\"CREATED: {file_name}\")"
   ]
  }
 ],
 "metadata": {
  "application/vnd.databricks.v1+notebook": {
   "computePreferences": null,
   "dashboards": [],
   "environmentMetadata": {
    "base_environment": "",
    "environment_version": "4"
   },
   "inputWidgetPreferences": null,
   "language": "python",
   "notebookMetadata": {
    "pythonIndentUnit": 2
   },
   "notebookName": "faker",
   "widgets": {
    "landing_zone_volume": {
     "currentValue": "/Volumes/amer_sts_catalog/superproject_bronze/landing",
     "nuid": "8b8e237b-6b2b-48e1-9f2f-f3f9e939e032",
     "typedWidgetInfo": {
      "autoCreated": false,
      "defaultValue": "",
      "label": null,
      "name": "landing_zone_volume",
      "options": {
       "validationRegex": null,
       "widgetDisplayType": "Text"
      },
      "parameterDataType": "String"
     },
     "widgetInfo": {
      "defaultValue": "",
      "label": null,
      "name": "landing_zone_volume",
      "options": {
       "autoCreated": null,
       "validationRegex": null,
       "widgetType": "text"
      },
      "widgetType": "text"
     }
    }
   }
  },
  "language_info": {
   "name": "python"
  }
 },
 "nbformat": 4,
 "nbformat_minor": 0
}
